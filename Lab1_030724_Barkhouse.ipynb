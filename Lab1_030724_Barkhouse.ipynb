{
 "cells": [
  {
   "attachments": {},
   "cell_type": "markdown",
   "metadata": {},
   "source": [
    "# Lab 1\n",
    "In this assignment you will demonstrate the skills you have learned in this week's programming exercises. Write code to complete each of the tasks below. Save this file and upload the complete file as your submission for Lab1. You may reference any of the materials covered in this course while working on the lab assignment. Save often!"
   ]
  },
  {
   "attachments": {},
   "cell_type": "markdown",
   "metadata": {},
   "source": []
  },
  {
   "attachments": {},
   "cell_type": "markdown",
   "metadata": {},
   "source": [
    "\n",
    "## Exercise 1: Hello World\n",
    "\n",
    "In this exercise, you will write a C# program that outputs the string \"Hello World\" to the console. \n",
    "1. Write the necessary code to display the string \"Hello World\" on the console. \n",
    "2. Run the program and observe the output."
   ]
  },
  {
   "cell_type": "code",
   "execution_count": 3,
   "metadata": {
    "dotnet_interactive": {
     "language": "csharp"
    },
    "polyglot_notebook": {
     "kernelName": "csharp"
    },
    "vscode": {
     "languageId": "polyglot-notebook"
    }
   },
   "outputs": [
    {
     "name": "stdout",
     "output_type": "stream",
     "text": [
      "Hello World\r\n"
     ]
    }
   ],
   "source": [
    "string greeting = \"Hello World\";\n",
    "Console.WriteLine(greeting);"
   ]
  },
  {
   "attachments": {},
   "cell_type": "markdown",
   "metadata": {},
   "source": [
    "## Exercise 2 Using Mutiple Variables\n",
    "\n",
    "In this exercise you will demonstrate your knowledge of variables and using the for output\n",
    "\n",
    "1. Create 3 string variables and choose any values for them. \n",
    "2. Print the values of each of the variables in one line with the number of characters for each for example if my variables were \"hello\", \"world\" and \"computer\" the output should be\n",
    "Variable 1: hello 5, Variable2: world 5, Variable3: computer 8\n"
   ]
  },
  {
   "cell_type": "code",
   "execution_count": 18,
   "metadata": {
    "dotnet_interactive": {
     "language": "csharp"
    },
    "polyglot_notebook": {
     "kernelName": "csharp"
    },
    "vscode": {
     "languageId": "polyglot-notebook"
    }
   },
   "outputs": [
    {
     "name": "stdout",
     "output_type": "stream",
     "text": [
      "Variable 1: Bert 4, Variable 2: Ernie 5, Variable 3: Big Bird 8\r\n"
     ]
    }
   ],
   "source": [
    "string Variable1 = \"Bert\";\n",
    "string Variable2 = \"Ernie\";\n",
    "string Variable3 = \"Big Bird\";\n",
    "\n",
    "Console.WriteLine($\"Variable 1: {Variable1} {Variable1.Length}, Variable 2: {Variable2} {Variable2.Length}, Variable 3: {Variable3} {Variable3.Length}\");\n"
   ]
  },
  {
   "attachments": {},
   "cell_type": "markdown",
   "metadata": {},
   "source": [
    "## Exercise 3: The Basics of Strings\n",
    "\n",
    "In this exercise, you will explore the basics of strings in C# and learn about string literals, string properties, and string methods.\n",
    "\n",
    "1. Declare a string variable called name and assign it your name.\n",
    "2. Declare another string variable called greeting with a welcome message, include the name variable within the greeting variable\n",
    "3. Print out the message variable\n",
    "4. Use the Length property to print the number of characters in message\n",
    "5. Print the message in all upper case\n",
    "6. Replace a section of the message with a new value using the Replace method\n",
    "7. Print the updated message"
   ]
  },
  {
   "cell_type": "code",
   "execution_count": 50,
   "metadata": {
    "dotnet_interactive": {
     "language": "csharp"
    },
    "polyglot_notebook": {
     "kernelName": "csharp"
    },
    "vscode": {
     "languageId": "polyglot-notebook"
    }
   },
   "outputs": [
    {
     "name": "stdout",
     "output_type": "stream",
     "text": [
      "Welcome to my house, Darryl!\n",
      "25\n",
      "WELCOME TO MY HOUSE, DARRYL!\n",
      "Barkhouse\n",
      "Welcome to my house, Barkhouse!\n"
     ]
    }
   ],
   "source": [
    "string name = \"Darryl\";\n",
    "string greeting = \"Welcome to my house\";\n",
    "Console.WriteLine($\"{greeting}, {name}!\");\n",
    "Console.WriteLine(greeting.Length+name.Length);\n",
    "Console.WriteLine($\"{greeting.ToUpper()}, {name.ToUpper()}!\");\n",
    "name = name.Replace(\"Darryl\", \"Barkhouse\");\n",
    "Console.WriteLine(name);\n",
    "Console.WriteLine($\"{greeting}, {name}!\");"
   ]
  },
  {
   "attachments": {},
   "cell_type": "markdown",
   "metadata": {},
   "source": [
    "## Exercise 4 Searching Strings\n",
    "\n",
    "In this exercise, you will apply your knowledge of string manipulation and searching operations in C#.\n",
    "\n",
    "1. Declare a string variable called sentence and assing it the following \"If the road is easy, you're likely going the wrong way.\"\n",
    "2. Use the StartsWith method to check if the sentence string starts with \"If\" and display the result.\n",
    "3. Use the StartsWith method to check if the sentence string starts with \"way\" and display the result.\n",
    "2. Use the EndsWith method to check if the sentence string ends with a \"If\" and display the result.\n",
    "3. Use the EndsWith method to check if the sentence string ends with a \"way\" and display the result.\n",
    "6. Use the Contains method to check if the sentence string contains \"road\" and display the result.\n",
    "7. Use the EndsWith method to check if the sentence string contians \"pizza\" and display the result."
   ]
  },
  {
   "cell_type": "code",
   "execution_count": 64,
   "metadata": {
    "dotnet_interactive": {
     "language": "csharp"
    },
    "polyglot_notebook": {
     "kernelName": "csharp"
    },
    "vscode": {
     "languageId": "polyglot-notebook"
    }
   },
   "outputs": [
    {
     "name": "stdout",
     "output_type": "stream",
     "text": [
      "True\n",
      "False\n",
      "False\n",
      "False\n",
      "True\n",
      "False\n"
     ]
    }
   ],
   "source": [
    "string sentence = \"If the road is easy, you're likely going the wrong way.\";\n",
    "bool TrueFalse = sentence.StartsWith(\"If\");\n",
    "Console.WriteLine(TrueFalse);\n",
    "bool TrueFalse2 = sentence.StartsWith(\"way\");\n",
    "Console.WriteLine(TrueFalse2);\n",
    "bool TrueFalse3 = sentence.EndsWith(\"If\");\n",
    "Console.WriteLine(TrueFalse3);\n",
    "bool TrueFalse4 = sentence.EndsWith(\"way\");\n",
    "Console.WriteLine(TrueFalse4);\n",
    "bool TrueFalse5 = sentence.Contains(\"road\");\n",
    "Console.WriteLine(TrueFalse5);\n",
    "bool TrueFalse6 = sentence.EndsWith(\"pizza\");\n",
    "Console.WriteLine(TrueFalse6);"
   ]
  },
  {
   "attachments": {},
   "cell_type": "markdown",
   "metadata": {},
   "source": [
    "# Save your work and upload this file to canvas"
   ]
  }
 ],
 "metadata": {
  "language_info": {
   "name": "csharp"
  },
  "orig_nbformat": 4
 },
 "nbformat": 4,
 "nbformat_minor": 2
}

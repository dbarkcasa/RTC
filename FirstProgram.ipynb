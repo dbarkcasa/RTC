{
 "cells": [
  {
   "cell_type": "markdown",
   "id": "3a257b69",
   "metadata": {},
   "source": [
    "# This is a program to demonstrate simple things in Python"
   ]
  },
  {
   "cell_type": "code",
   "execution_count": 1,
   "id": "ab4681b5",
   "metadata": {},
   "outputs": [
    {
     "name": "stdout",
     "output_type": "stream",
     "text": [
      "12   12.333   Tom Hanks   D\n",
      "24.333   Tom Hanks   D\n",
      "Wrong Number!!!!\n"
     ]
    }
   ],
   "source": [
    "a = 12 # It is an integer value for a\n",
    "interest_rate = 12.3330\n",
    "c = \"Tom Hanks\"\n",
    "d = 'D'\n",
    "\n",
    "summation = a + interest_rate\n",
    "sub = interest_rate - a\n",
    "multi = interest_rate * a\n",
    "division = (float)(interest_rate /a)\n",
    "\n",
    "print(a, \" \", interest_rate, \" \", c, \" \", d )\n",
    "\n",
    "print (summation, \" \", c, \" \", d )\n",
    "\n",
    "if a != 10:\n",
    "    print (\"Wrong Number!!!!\")"
   ]
  },
  {
   "cell_type": "markdown",
   "id": "4b366890",
   "metadata": {},
   "source": [
    "We are checking age limit for this class!!!"
   ]
  },
  {
   "cell_type": "code",
   "execution_count": 5,
   "id": "fdd9f74c",
   "metadata": {},
   "outputs": [
    {
     "name": "stdout",
     "output_type": "stream",
     "text": [
      "g\n"
     ]
    },
    {
     "ename": "ValueError",
     "evalue": "invalid literal for int() with base 10: 'g'",
     "output_type": "error",
     "traceback": [
      "\u001b[1;31m---------------------------------------------------------------------------\u001b[0m",
      "\u001b[1;31mValueError\u001b[0m                                Traceback (most recent call last)",
      "Cell \u001b[1;32mIn[5], line 1\u001b[0m\n\u001b[1;32m----> 1\u001b[0m age \u001b[38;5;241m=\u001b[39m \u001b[38;5;28;43mint\u001b[39;49m\u001b[43m(\u001b[49m\u001b[38;5;28;43minput\u001b[39;49m\u001b[43m(\u001b[49m\u001b[43m)\u001b[49m\u001b[43m)\u001b[49m\n\u001b[0;32m      3\u001b[0m \u001b[38;5;28;01mif\u001b[39;00m age \u001b[38;5;241m>\u001b[39m\u001b[38;5;241m=\u001b[39m \u001b[38;5;241m12\u001b[39m:\n\u001b[0;32m      4\u001b[0m     \u001b[38;5;28mprint\u001b[39m (\u001b[38;5;124m\"\u001b[39m\u001b[38;5;124mWelcome\u001b[39m\u001b[38;5;124m\"\u001b[39m)\n",
      "\u001b[1;31mValueError\u001b[0m: invalid literal for int() with base 10: 'g'"
     ]
    }
   ],
   "source": [
    "age = int(input())\n",
    "\n",
    "if age >= 12:\n",
    "    print (\"Welcome\")\n",
    "elif age < 12:\n",
    "    print (\"You are too young!\")\n",
    "else:\n",
    "    print (\"Nothing!\")"
   ]
  },
  {
   "cell_type": "markdown",
   "id": "a36dd154",
   "metadata": {},
   "source": []
  }
 ],
 "metadata": {
  "kernelspec": {
   "display_name": "Python 3 (ipykernel)",
   "language": "python",
   "name": "python3"
  },
  "language_info": {
   "codemirror_mode": {
    "name": "ipython",
    "version": 3
   },
   "file_extension": ".py",
   "mimetype": "text/x-python",
   "name": "python",
   "nbconvert_exporter": "python",
   "pygments_lexer": "ipython3",
   "version": "3.10.9"
  }
 },
 "nbformat": 4,
 "nbformat_minor": 5
}

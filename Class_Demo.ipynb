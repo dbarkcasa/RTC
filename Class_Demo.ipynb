{
 "cells": [
  {
   "cell_type": "code",
   "execution_count": 4,
   "id": "07c36732",
   "metadata": {},
   "outputs": [],
   "source": [
    "listA= [ 23, 12, 45, 22, 11, 78, 13, 90, 45, 88, 10, -5, -1 ]"
   ]
  },
  {
   "cell_type": "code",
   "execution_count": 7,
   "id": "3f482351",
   "metadata": {},
   "outputs": [
    {
     "name": "stdout",
     "output_type": "stream",
     "text": [
      "90\n"
     ]
    }
   ],
   "source": [
    "def find_maximum(listA):\n",
    "    max = listA[0]\n",
    "    length = len(listA)\n",
    "    for i in range(1, length):\n",
    "        if max < listA[i]:\n",
    "            max = listA[i]\n",
    "    return max\n",
    "\n",
    "print(find_maximum(listA))"
   ]
  },
  {
   "cell_type": "code",
   "execution_count": 9,
   "id": "97c0ed58",
   "metadata": {},
   "outputs": [
    {
     "name": "stdout",
     "output_type": "stream",
     "text": [
      "-5\n"
     ]
    }
   ],
   "source": [
    "def find_minimum(listA):\n",
    "    min = 0\n",
    "    #length = Len(listA)\n",
    "    for num in listA:\n",
    "        if min > num:\n",
    "            min = num\n",
    "    return min\n",
    "\n",
    "print(find_minimum(listA))"
   ]
  },
  {
   "cell_type": "code",
   "execution_count": null,
   "id": "366160a9",
   "metadata": {},
   "outputs": [],
   "source": []
  }
 ],
 "metadata": {
  "kernelspec": {
   "display_name": "Python 3 (ipykernel)",
   "language": "python",
   "name": "python3"
  },
  "language_info": {
   "codemirror_mode": {
    "name": "ipython",
    "version": 3
   },
   "file_extension": ".py",
   "mimetype": "text/x-python",
   "name": "python",
   "nbconvert_exporter": "python",
   "pygments_lexer": "ipython3",
   "version": "3.10.9"
  }
 },
 "nbformat": 4,
 "nbformat_minor": 5
}

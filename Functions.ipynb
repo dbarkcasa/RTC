{
 "cells": [
  {
   "cell_type": "markdown",
   "id": "93b94903",
   "metadata": {},
   "source": [
    "#Assignment 2 Help"
   ]
  },
  {
   "cell_type": "markdown",
   "id": "e32cfb2c",
   "metadata": {},
   "source": [
    "IF-Else Program Solution"
   ]
  },
  {
   "cell_type": "code",
   "execution_count": 4,
   "id": "edf480af",
   "metadata": {},
   "outputs": [
    {
     "name": "stdout",
     "output_type": "stream",
     "text": [
      "Please enter your vehicle speed: 35\n",
      "Speed is Normal\n"
     ]
    }
   ],
   "source": [
    "my_vehicle_speed = int(input(\"Please enter your vehicle speed: \"))\n",
    "if my_vehicle_speed < 24:\n",
    "    print(\"Speed is Abnormal\")\n",
    "elif my_vehicle_speed > 56:\n",
    "    print(\"Speed is Abnormal\")\n",
    "else:\n",
    "    print(\"Speed is Normal\")"
   ]
  }
 ],
 "metadata": {
  "kernelspec": {
   "display_name": "Python 3 (ipykernel)",
   "language": "python",
   "name": "python3"
  },
  "language_info": {
   "codemirror_mode": {
    "name": "ipython",
    "version": 3
   },
   "file_extension": ".py",
   "mimetype": "text/x-python",
   "name": "python",
   "nbconvert_exporter": "python",
   "pygments_lexer": "ipython3",
   "version": "3.10.9"
  }
 },
 "nbformat": 4,
 "nbformat_minor": 5
}
